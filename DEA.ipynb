{
 "cells": [
  {
   "cell_type": "code",
   "execution_count": 21,
   "metadata": {},
   "outputs": [],
   "source": [
    "import pandas as pd\n",
    "import numpy as np\n",
    "from datetime import datetime\n",
    "import seaborn as sns\n",
    "from matplotlib import pyplot as plt\n",
    "from sklearn.model_selection import TimeSeriesSplit, GridSearchCV\n",
    "from sklearn.neural_network import MLPRegressor\n",
    "from sklearn.metrics import mean_squared_error\n",
    "from sklearn.preprocessing import StandardScaler\n",
    "import joblib as jbl"
   ]
  },
  {
   "cell_type": "code",
   "execution_count": 85,
   "metadata": {},
   "outputs": [
    {
     "data": {
      "text/html": [
       "<div>\n",
       "<style scoped>\n",
       "    .dataframe tbody tr th:only-of-type {\n",
       "        vertical-align: middle;\n",
       "    }\n",
       "\n",
       "    .dataframe tbody tr th {\n",
       "        vertical-align: top;\n",
       "    }\n",
       "\n",
       "    .dataframe thead th {\n",
       "        text-align: right;\n",
       "    }\n",
       "</style>\n",
       "<table border=\"1\" class=\"dataframe\">\n",
       "  <thead>\n",
       "    <tr style=\"text-align: right;\">\n",
       "      <th></th>\n",
       "      <th>list_id</th>\n",
       "      <th>seller_id</th>\n",
       "      <th>buyer_id</th>\n",
       "      <th>event_id</th>\n",
       "      <th>date_id</th>\n",
       "      <th>qt_sold</th>\n",
       "      <th>price_paid</th>\n",
       "      <th>commission</th>\n",
       "      <th>saletime</th>\n",
       "    </tr>\n",
       "    <tr>\n",
       "      <th>id</th>\n",
       "      <th></th>\n",
       "      <th></th>\n",
       "      <th></th>\n",
       "      <th></th>\n",
       "      <th></th>\n",
       "      <th></th>\n",
       "      <th></th>\n",
       "      <th></th>\n",
       "      <th></th>\n",
       "    </tr>\n",
       "  </thead>\n",
       "  <tbody>\n",
       "    <tr>\n",
       "      <th>1</th>\n",
       "      <td>1</td>\n",
       "      <td>36861</td>\n",
       "      <td>21191</td>\n",
       "      <td>7872</td>\n",
       "      <td>1875</td>\n",
       "      <td>4</td>\n",
       "      <td>728.0</td>\n",
       "      <td>109.199997</td>\n",
       "      <td>2008-02-18 02:36:48</td>\n",
       "    </tr>\n",
       "    <tr>\n",
       "      <th>2</th>\n",
       "      <td>4</td>\n",
       "      <td>8117</td>\n",
       "      <td>11498</td>\n",
       "      <td>4337</td>\n",
       "      <td>1983</td>\n",
       "      <td>2</td>\n",
       "      <td>76.0</td>\n",
       "      <td>11.400000</td>\n",
       "      <td>2008-06-06 05:00:16</td>\n",
       "    </tr>\n",
       "    <tr>\n",
       "      <th>3</th>\n",
       "      <td>5</td>\n",
       "      <td>1616</td>\n",
       "      <td>17433</td>\n",
       "      <td>8647</td>\n",
       "      <td>1983</td>\n",
       "      <td>2</td>\n",
       "      <td>350.0</td>\n",
       "      <td>52.500000</td>\n",
       "      <td>2008-06-06 08:26:17</td>\n",
       "    </tr>\n",
       "    <tr>\n",
       "      <th>4</th>\n",
       "      <td>5</td>\n",
       "      <td>1616</td>\n",
       "      <td>19715</td>\n",
       "      <td>8647</td>\n",
       "      <td>1986</td>\n",
       "      <td>1</td>\n",
       "      <td>175.0</td>\n",
       "      <td>26.250000</td>\n",
       "      <td>2008-06-09 08:38:52</td>\n",
       "    </tr>\n",
       "    <tr>\n",
       "      <th>5</th>\n",
       "      <td>6</td>\n",
       "      <td>47402</td>\n",
       "      <td>14115</td>\n",
       "      <td>8240</td>\n",
       "      <td>2069</td>\n",
       "      <td>2</td>\n",
       "      <td>154.0</td>\n",
       "      <td>23.100000</td>\n",
       "      <td>2008-08-31 09:17:02</td>\n",
       "    </tr>\n",
       "  </tbody>\n",
       "</table>\n",
       "</div>"
      ],
      "text/plain": [
       "    list_id  seller_id  buyer_id  event_id  date_id  qt_sold  price_paid  \\\n",
       "id                                                                         \n",
       "1         1      36861     21191      7872     1875        4       728.0   \n",
       "2         4       8117     11498      4337     1983        2        76.0   \n",
       "3         5       1616     17433      8647     1983        2       350.0   \n",
       "4         5       1616     19715      8647     1986        1       175.0   \n",
       "5         6      47402     14115      8240     2069        2       154.0   \n",
       "\n",
       "    commission            saletime  \n",
       "id                                  \n",
       "1   109.199997 2008-02-18 02:36:48  \n",
       "2    11.400000 2008-06-06 05:00:16  \n",
       "3    52.500000 2008-06-06 08:26:17  \n",
       "4    26.250000 2008-06-09 08:38:52  \n",
       "5    23.100000 2008-08-31 09:17:02  "
      ]
     },
     "execution_count": 85,
     "metadata": {},
     "output_type": "execute_result"
    }
   ],
   "source": [
    "col_sales = ['id', 'list_id', 'seller_id', 'buyer_id', 'event_id', 'date_id', 'qt_sold', 'price_paid', 'commission', 'saletime']\n",
    "col_sales_t = [np.int32, np.int32, np.int32, np.int32, np.int32, np.int32, np.int8, np.float32, np.float32]\n",
    "col_sales_=col_sales[:-1]\n",
    "dict_types = dict(zip(col_sales, col_sales_t))\n",
    "sales: pd.DataFrame = pd.read_csv(filepath_or_buffer='data/sales_tab.txt', sep='\\t', names=col_sales, index_col=0, parse_dates=['saletime'], infer_datetime_format=True, dtype=dict_types)\n",
    "sales.head(5)"
   ]
  },
  {
   "cell_type": "code",
   "execution_count": 86,
   "metadata": {},
   "outputs": [
    {
     "name": "stdout",
     "output_type": "stream",
     "text": [
      "<class 'pandas.core.frame.DataFrame'>\n",
      "Int64Index: 172456 entries, 1 to 172456\n",
      "Data columns (total 9 columns):\n",
      " #   Column      Non-Null Count   Dtype         \n",
      "---  ------      --------------   -----         \n",
      " 0   list_id     172456 non-null  int32         \n",
      " 1   seller_id   172456 non-null  int32         \n",
      " 2   buyer_id    172456 non-null  int32         \n",
      " 3   event_id    172456 non-null  int32         \n",
      " 4   date_id     172456 non-null  int32         \n",
      " 5   qt_sold     172456 non-null  int8          \n",
      " 6   price_paid  172456 non-null  float32       \n",
      " 7   commission  172456 non-null  float32       \n",
      " 8   saletime    172456 non-null  datetime64[ns]\n",
      "dtypes: datetime64[ns](1), float32(2), int32(5), int8(1)\n",
      "memory usage: 7.4 MB\n"
     ]
    }
   ],
   "source": [
    "sales.info()"
   ]
  },
  {
   "cell_type": "code",
   "execution_count": 87,
   "metadata": {},
   "outputs": [
    {
     "data": {
      "text/html": [
       "<div>\n",
       "<style scoped>\n",
       "    .dataframe tbody tr th:only-of-type {\n",
       "        vertical-align: middle;\n",
       "    }\n",
       "\n",
       "    .dataframe tbody tr th {\n",
       "        vertical-align: top;\n",
       "    }\n",
       "\n",
       "    .dataframe thead th {\n",
       "        text-align: right;\n",
       "    }\n",
       "</style>\n",
       "<table border=\"1\" class=\"dataframe\">\n",
       "  <thead>\n",
       "    <tr style=\"text-align: right;\">\n",
       "      <th></th>\n",
       "      <th>list_id</th>\n",
       "      <th>seller_id</th>\n",
       "      <th>buyer_id</th>\n",
       "      <th>event_id</th>\n",
       "      <th>date_id</th>\n",
       "      <th>qt_sold</th>\n",
       "      <th>price_paid</th>\n",
       "      <th>commission</th>\n",
       "      <th>saletime</th>\n",
       "    </tr>\n",
       "    <tr>\n",
       "      <th>id</th>\n",
       "      <th></th>\n",
       "      <th></th>\n",
       "      <th></th>\n",
       "      <th></th>\n",
       "      <th></th>\n",
       "      <th></th>\n",
       "      <th></th>\n",
       "      <th></th>\n",
       "      <th></th>\n",
       "    </tr>\n",
       "  </thead>\n",
       "  <tbody>\n",
       "    <tr>\n",
       "      <th>1</th>\n",
       "      <td>1</td>\n",
       "      <td>36861</td>\n",
       "      <td>21191</td>\n",
       "      <td>7872</td>\n",
       "      <td>1875</td>\n",
       "      <td>4</td>\n",
       "      <td>728.0</td>\n",
       "      <td>109.199997</td>\n",
       "      <td>2008-02-18</td>\n",
       "    </tr>\n",
       "    <tr>\n",
       "      <th>2</th>\n",
       "      <td>4</td>\n",
       "      <td>8117</td>\n",
       "      <td>11498</td>\n",
       "      <td>4337</td>\n",
       "      <td>1983</td>\n",
       "      <td>2</td>\n",
       "      <td>76.0</td>\n",
       "      <td>11.400000</td>\n",
       "      <td>2008-06-06</td>\n",
       "    </tr>\n",
       "    <tr>\n",
       "      <th>3</th>\n",
       "      <td>5</td>\n",
       "      <td>1616</td>\n",
       "      <td>17433</td>\n",
       "      <td>8647</td>\n",
       "      <td>1983</td>\n",
       "      <td>2</td>\n",
       "      <td>350.0</td>\n",
       "      <td>52.500000</td>\n",
       "      <td>2008-06-06</td>\n",
       "    </tr>\n",
       "    <tr>\n",
       "      <th>4</th>\n",
       "      <td>5</td>\n",
       "      <td>1616</td>\n",
       "      <td>19715</td>\n",
       "      <td>8647</td>\n",
       "      <td>1986</td>\n",
       "      <td>1</td>\n",
       "      <td>175.0</td>\n",
       "      <td>26.250000</td>\n",
       "      <td>2008-06-09</td>\n",
       "    </tr>\n",
       "    <tr>\n",
       "      <th>5</th>\n",
       "      <td>6</td>\n",
       "      <td>47402</td>\n",
       "      <td>14115</td>\n",
       "      <td>8240</td>\n",
       "      <td>2069</td>\n",
       "      <td>2</td>\n",
       "      <td>154.0</td>\n",
       "      <td>23.100000</td>\n",
       "      <td>2008-08-31</td>\n",
       "    </tr>\n",
       "  </tbody>\n",
       "</table>\n",
       "</div>"
      ],
      "text/plain": [
       "    list_id  seller_id  buyer_id  event_id  date_id  qt_sold  price_paid  \\\n",
       "id                                                                         \n",
       "1         1      36861     21191      7872     1875        4       728.0   \n",
       "2         4       8117     11498      4337     1983        2        76.0   \n",
       "3         5       1616     17433      8647     1983        2       350.0   \n",
       "4         5       1616     19715      8647     1986        1       175.0   \n",
       "5         6      47402     14115      8240     2069        2       154.0   \n",
       "\n",
       "    commission   saletime  \n",
       "id                         \n",
       "1   109.199997 2008-02-18  \n",
       "2    11.400000 2008-06-06  \n",
       "3    52.500000 2008-06-06  \n",
       "4    26.250000 2008-06-09  \n",
       "5    23.100000 2008-08-31  "
      ]
     },
     "execution_count": 87,
     "metadata": {},
     "output_type": "execute_result"
    }
   ],
   "source": [
    "def formmating_date(dat: np.datetime64):\n",
    "    if isinstance(dat, datetime):\n",
    "        return dat.date()\n",
    "    else:\n",
    "        raise TypeError(f'Error en /{dat}/')\n",
    "\n",
    "sales['saletime'] = pd.to_datetime(arg=sales['saletime'].map(formmating_date))\n",
    "\n",
    "sales.head(5)\n"
   ]
  },
  {
   "cell_type": "code",
   "execution_count": 88,
   "metadata": {},
   "outputs": [
    {
     "name": "stdout",
     "output_type": "stream",
     "text": [
      "<class 'pandas.core.frame.DataFrame'>\n",
      "Int64Index: 172456 entries, 1 to 172456\n",
      "Data columns (total 9 columns):\n",
      " #   Column      Non-Null Count   Dtype         \n",
      "---  ------      --------------   -----         \n",
      " 0   list_id     172456 non-null  int32         \n",
      " 1   seller_id   172456 non-null  int32         \n",
      " 2   buyer_id    172456 non-null  int32         \n",
      " 3   event_id    172456 non-null  int32         \n",
      " 4   date_id     172456 non-null  int32         \n",
      " 5   qt_sold     172456 non-null  int8          \n",
      " 6   price_paid  172456 non-null  float32       \n",
      " 7   commission  172456 non-null  float32       \n",
      " 8   saletime    172456 non-null  datetime64[ns]\n",
      "dtypes: datetime64[ns](1), float32(2), int32(5), int8(1)\n",
      "memory usage: 7.4 MB\n"
     ]
    }
   ],
   "source": [
    "sales.info()"
   ]
  },
  {
   "cell_type": "markdown",
   "metadata": {},
   "source": [
    "## revision evento 7872"
   ]
  },
  {
   "cell_type": "code",
   "execution_count": 6,
   "metadata": {},
   "outputs": [
    {
     "name": "stdout",
     "output_type": "stream",
     "text": [
      "(18,)\n",
      "2008-01-06    1\n",
      "2008-01-18    1\n",
      "2008-01-20    1\n",
      "2008-01-23    1\n",
      "2008-01-25    2\n",
      "2008-01-28    1\n",
      "2008-01-30    1\n",
      "2008-01-31    2\n",
      "2008-02-05    1\n",
      "2008-02-07    1\n",
      "2008-02-08    2\n",
      "2008-02-11    1\n",
      "2008-02-13    2\n",
      "2008-02-17    1\n",
      "2008-02-18    1\n",
      "2008-02-19    1\n",
      "2008-02-20    1\n",
      "2008-02-21    1\n",
      "Name: saletime, dtype: int64\n"
     ]
    }
   ],
   "source": [
    "ev_7872 = sales[sales['event_id'] == 7872]\n",
    "s_7872 = ev_7872['saletime'].value_counts().sort_index()\n",
    "print(s_7872.shape)\n",
    "print(s_7872)"
   ]
  },
  {
   "cell_type": "markdown",
   "metadata": {},
   "source": [
    "## Evento 7874"
   ]
  },
  {
   "cell_type": "code",
   "execution_count": 7,
   "metadata": {},
   "outputs": [
    {
     "name": "stdout",
     "output_type": "stream",
     "text": [
      "(17,)\n",
      "2008-10-30    1\n",
      "2008-11-03    1\n",
      "2008-11-05    1\n",
      "2008-11-18    1\n",
      "2008-11-21    1\n",
      "2008-11-22    1\n",
      "2008-11-27    1\n",
      "2008-11-30    1\n",
      "2008-12-01    3\n",
      "2008-12-08    1\n",
      "2008-12-09    4\n",
      "2008-12-10    1\n",
      "2008-12-11    2\n",
      "2008-12-12    1\n",
      "2008-12-16    1\n",
      "2008-12-17    1\n",
      "2008-12-19    1\n",
      "Name: saletime, dtype: int64\n"
     ]
    }
   ],
   "source": [
    "ev_7874 = sales[sales['event_id'] == 7874]\n",
    "s_7874 = ev_7874['saletime'].value_counts().sort_index()\n",
    "print(s_7874.shape)\n",
    "print(s_7874)"
   ]
  },
  {
   "cell_type": "markdown",
   "metadata": {},
   "source": [
    "## Ventas por evento"
   ]
  },
  {
   "cell_type": "code",
   "execution_count": 89,
   "metadata": {},
   "outputs": [
    {
     "name": "stdout",
     "output_type": "stream",
     "text": [
      "Descripción:\n",
      "count    8512.000000\n",
      "mean       40.572016\n",
      "std        17.441929\n",
      "min         1.000000\n",
      "25%        30.000000\n",
      "50%        41.000000\n",
      "75%        52.000000\n",
      "max       122.000000\n",
      "Name: qt_sold, dtype: float64\n",
      "\n",
      "Agrupamiento:\n",
      "      event_id  qt_sold\n",
      "0            1        3\n",
      "1            2       45\n",
      "2            3       38\n",
      "3            4       45\n",
      "4            5       27\n",
      "...        ...      ...\n",
      "8507      8794       37\n",
      "8508      8795       27\n",
      "8509      8796       47\n",
      "8510      8797       54\n",
      "8511      8798       45\n",
      "\n",
      "[8512 rows x 2 columns]\n"
     ]
    }
   ],
   "source": [
    "ventas_por_evento = sales.groupby(by=['event_id'])['qt_sold'].sum()\n",
    "print(f'Descripción:\\n{ventas_por_evento.describe()}\\n')\n",
    "print(f'Agrupamiento:\\n{ventas_por_evento.reset_index().rename(columns={\"event_id\": \"event_id\", \"commission\": \"Boletos vendidos\"})}')"
   ]
  },
  {
   "cell_type": "markdown",
   "metadata": {},
   "source": [
    "## Ventas por fecha"
   ]
  },
  {
   "cell_type": "code",
   "execution_count": 90,
   "metadata": {},
   "outputs": [
    {
     "name": "stdout",
     "output_type": "stream",
     "text": [
      "Descripción:\n",
      "count     365.000000\n",
      "mean      946.161644\n",
      "std       244.505362\n",
      "min        19.000000\n",
      "25%       962.000000\n",
      "50%      1033.000000\n",
      "75%      1079.000000\n",
      "max      1216.000000\n",
      "Name: qt_sold, dtype: float64\n",
      "\n",
      "Ventas por fecha:\n",
      "      saletime  boletos_vendidos\n",
      "0   2008-01-01              19.0\n",
      "1   2008-01-02              57.0\n",
      "2   2008-01-03              94.0\n",
      "3   2008-01-04             157.0\n",
      "4   2008-01-05             210.0\n",
      "..         ...               ...\n",
      "360 2008-12-27             170.0\n",
      "361 2008-12-28             145.0\n",
      "362 2008-12-29             143.0\n",
      "363 2008-12-30              76.0\n",
      "364 2008-12-31              42.0\n",
      "\n",
      "[365 rows x 2 columns]\n",
      "\n"
     ]
    }
   ],
   "source": [
    "ventas_por_fecha = sales.groupby(by=['saletime'])['qt_sold'].sum()\n",
    "print(f'Descripción:\\n{ventas_por_fecha.describe()}\\n')\n",
    "ventas_fecha_index = ventas_por_fecha.reset_index().rename(columns={'saletime': 'saletime', 'qt_sold': 'boletos_vendidos'})\n",
    "print(f\"Ventas por fecha:\\n{ventas_fecha_index}\\n\")"
   ]
  },
  {
   "cell_type": "code",
   "execution_count": 91,
   "metadata": {},
   "outputs": [
    {
     "name": "stdout",
     "output_type": "stream",
     "text": [
      "     id       date day  week month qtr  year  holiday\n",
      "0  1827 2008-01-01  WE     1   JAN   1  2008     True\n",
      "1  1828 2008-01-02  TH     1   JAN   1  2008    False\n",
      "2  1829 2008-01-03  FR     1   JAN   1  2008    False\n",
      "3  1830 2008-01-04  SA     2   JAN   1  2008    False\n",
      "4  1831 2008-01-05  SU     2   JAN   1  2008    False\n",
      "5  1832 2008-01-06  MO     2   JAN   1  2008    False\n",
      "6  1833 2008-01-07  TU     2   JAN   1  2008    False\n",
      "7  1834 2008-01-08  WE     2   JAN   1  2008    False\n",
      "8  1835 2008-01-09  TH     2   JAN   1  2008    False\n",
      "9  1836 2008-01-10  FR     2   JAN   1  2008    False\n",
      "<class 'pandas.core.frame.DataFrame'>\n",
      "RangeIndex: 365 entries, 0 to 364\n",
      "Data columns (total 8 columns):\n",
      " #   Column   Non-Null Count  Dtype         \n",
      "---  ------   --------------  -----         \n",
      " 0   id       365 non-null    Int64         \n",
      " 1   date     365 non-null    datetime64[ns]\n",
      " 2   day      365 non-null    string        \n",
      " 3   week     365 non-null    Int16         \n",
      " 4   month    365 non-null    string        \n",
      " 5   qtr      365 non-null    string        \n",
      " 6   year     365 non-null    Int16         \n",
      " 7   holiday  365 non-null    boolean       \n",
      "dtypes: Int16(2), Int64(1), boolean(1), datetime64[ns](1), string(3)\n",
      "memory usage: 17.6 KB\n",
      "\n",
      "None\n"
     ]
    }
   ],
   "source": [
    "#Carga de tabla de tiempo\n",
    "col_date = ['id', 'date', 'day','week', 'month', 'qtr', 'year', 'holiday']\n",
    "col_date_ = col_date.copy()\n",
    "col_date_.pop(1)\n",
    "col_date_t = ['Int64', 'string', 'Int16', 'string', 'string', 'Int16', 'boolean']\n",
    "\n",
    "dict_types_date = dict(zip(col_date_, col_date_t))\n",
    "\n",
    "date = pd.read_csv(filepath_or_buffer='data/date2008_pipe.txt', sep='|', names=col_date, dtype=dict_types_date, index_col=False, parse_dates=['date'], infer_datetime_format=True)\n",
    "print(date.head(10))\n",
    "print(f'\\n{date.info()}')"
   ]
  },
  {
   "cell_type": "code",
   "execution_count": 92,
   "metadata": {},
   "outputs": [
    {
     "name": "stdout",
     "output_type": "stream",
     "text": [
      "Descripcion festivos\n",
      "count       7.000000\n",
      "mean      654.428571\n",
      "std       488.121862\n",
      "min        19.000000\n",
      "25%       211.000000\n",
      "50%       848.000000\n",
      "75%      1067.000000\n",
      "max      1158.000000\n",
      "Name: boletos_vendidos, dtype: float64\n",
      "\n",
      "Descripcion no festivos\n",
      "count     358.000000\n",
      "mean      951.865922\n",
      "std       235.051586\n",
      "min        42.000000\n",
      "25%       965.750000\n",
      "50%      1033.500000\n",
      "75%      1079.000000\n",
      "max      1216.000000\n",
      "Name: boletos_vendidos, dtype: float64\n"
     ]
    },
    {
     "data": {
      "image/png": "[encoded data removed]",
      "text/plain": [
       "<Figure size 2160x720 with 3 Axes>"
      ]
     },
     "metadata": {
      "needs_background": "light"
     },
     "output_type": "display_data"
    }
   ],
   "source": [
    "# append de tabla date con sales para dias festivos\n",
    "\n",
    "merge_1 = pd.merge(left=ventas_fecha_index, right=date, left_on='saletime', right_on='date')[['saletime', 'boletos_vendidos', 'holiday']]\n",
    "merge_1\n",
    "\n",
    "ventas_festivos = merge_1.loc[merge_1['holiday'] == True]\n",
    "ventas_no_festivos = merge_1.loc[merge_1['holiday'] == False]\n",
    "\n",
    "print(f'Descripcion festivos\\n{ventas_festivos[\"boletos_vendidos\"].describe()}\\n')\n",
    "print(f'Descripcion no festivos\\n{ventas_no_festivos[\"boletos_vendidos\"].describe()}')\n",
    "\n",
    "\n",
    "fig, ax = plt.subplots(ncols=3, nrows=1, figsize=(30,10))\n",
    "ax[0].set_title('Tickets vendidos por dia (no festivos)')\n",
    "ax[1].set_title('Tickets vendidos por dia (festivos)')\n",
    "ax[2].set_title('Tickets vendidos por dia (general)')\n",
    "sns.lineplot(data=ventas_no_festivos, x='saletime', y='boletos_vendidos', ax=ax[0])\n",
    "sns.lineplot(data=ventas_festivos, x='saletime', y='boletos_vendidos', ax=ax[1])\n",
    "sns.lineplot(data=merge_1, x='saletime', y='boletos_vendidos', ax=ax[2])\n",
    "ax[0].grid()\n",
    "ax[1].grid()\n",
    "ax[2].grid()\n"
   ]
  },
  {
   "cell_type": "markdown",
   "metadata": {},
   "source": [
    "## Configuracion de set inicial"
   ]
  },
  {
   "cell_type": "code",
   "execution_count": 94,
   "metadata": {},
   "outputs": [
    {
     "data": {
      "text/plain": [
       "saletime\n",
       "2008-01-01     19.0\n",
       "2008-01-02     57.0\n",
       "2008-01-03     94.0\n",
       "2008-01-04    157.0\n",
       "2008-01-05    210.0\n",
       "              ...  \n",
       "2008-12-27    170.0\n",
       "2008-12-28    145.0\n",
       "2008-12-29    143.0\n",
       "2008-12-30     76.0\n",
       "2008-12-31     42.0\n",
       "Name: boletos_vendidos, Length: 365, dtype: float64"
      ]
     },
     "execution_count": 94,
     "metadata": {},
     "output_type": "execute_result"
    }
   ],
   "source": [
    "serie_inicial = merge_1['boletos_vendidos'].squeeze()\n",
    "serie_inicial.index = merge_1['saletime']\n",
    "serie_inicial"
   ]
  },
  {
   "cell_type": "markdown",
   "metadata": {},
   "source": [
    "### Particion en test y prueba"
   ]
  },
  {
   "cell_type": "code",
   "execution_count": 96,
   "metadata": {},
   "outputs": [
    {
     "name": "stdout",
     "output_type": "stream",
     "text": [
      "Limite superior set de prueba: 2008-09-30 00:00:00\n",
      "Limite inferior set de test: 2008-01-01 00:00:00\n",
      "Limite inferior set de test: (273,)\n"
     ]
    }
   ],
   "source": [
    "k = 15 # ventana temporal\n",
    "data_train = serie_inicial.loc[:'2008-09-30']\n",
    "data_test = serie_inicial.loc['2008-09-30':]\n",
    "\n",
    "print(f'Limite superior set de prueba: {data_train.index[-1]}')\n",
    "print(f'Limite inferior set de test: {data_train.index[0]}')\n",
    "print(f'Limite inferior set de test: {data_train.shape}')"
   ]
  },
  {
   "cell_type": "code",
   "execution_count": 97,
   "metadata": {},
   "outputs": [],
   "source": [
    "# Se crean los sets por medio de funcion de slide\n",
    "def slide_serie(ts, window_size=10):\n",
    "  '''\n",
    "  Funcion encargada de crear dataset tipo \n",
    "  '''\n",
    "  n = ts.shape[0] - window_size  \n",
    "  X = np.empty((n, window_size))\n",
    "  y = np.empty(n)\n",
    "\n",
    "  for i in range(window_size, ts.shape[0]):   \n",
    "    y[i - window_size] = ts[i]\n",
    "    X[i- window_size, 0:window_size] = np.array(ts[i - window_size:i])\n",
    "    \n",
    "  return X, y\n",
    "\n",
    "def scale_set(data, scaler_set=None):\n",
    "  if scaler_set:\n",
    "    pass\n",
    "  else:\n",
    "    scaler_set = StandardScaler()\n",
    "  \n",
    "  dt = data.reshape((data.shape[0],1))\n",
    "  dt_ex = scaler_set.fit_transform(dt)\n",
    "  data_sc = dt_ex.reshape((data.shape[0],))\n",
    "\n",
    "  return (scaler_set, data_sc)\n",
    "\n",
    "\n",
    "scaler_set, data_train_pr = scale_set(data_train.values)\n",
    "_, data_test_pr = scale_set(data_test.values, scaler_set)\n",
    "\n",
    "X_train, y_train = slide_serie(data_train_pr, window_size=k)\n",
    "X_test, y_test = slide_serie(data_test_pr, window_size=k) "
   ]
  },
  {
   "cell_type": "code",
   "execution_count": 98,
   "metadata": {},
   "outputs": [
    {
     "name": "stdout",
     "output_type": "stream",
     "text": [
      "Set de entrenamiento\n",
      "X:\tTamanio: (258, 15)\n",
      "         0         1         2         3         4         5         6   \\\n",
      "0 -4.745058 -4.558627 -4.377103 -4.068022 -3.808000 -3.940464 -3.768752   \n",
      "1 -4.558627 -4.377103 -4.068022 -3.808000 -3.940464 -3.768752 -3.327207   \n",
      "2 -4.377103 -4.068022 -3.808000 -3.940464 -3.768752 -3.327207 -3.199649   \n",
      "3 -4.068022 -3.808000 -3.940464 -3.768752 -3.327207 -3.199649 -3.189837   \n",
      "4 -3.808000 -3.940464 -3.768752 -3.327207 -3.199649 -3.189837 -3.273240   \n",
      "\n",
      "         7         8         9         10        11        12        13  \\\n",
      "0 -3.327207 -3.199649 -3.189837 -3.273240 -2.890567 -2.782634 -2.213531   \n",
      "1 -3.199649 -3.189837 -3.273240 -2.890567 -2.782634 -2.213531 -2.385243   \n",
      "2 -3.189837 -3.273240 -2.890567 -2.782634 -2.213531 -2.385243 -2.409774   \n",
      "3 -3.273240 -2.890567 -2.782634 -2.213531 -2.385243 -2.409774 -2.164471   \n",
      "4 -2.890567 -2.782634 -2.213531 -2.385243 -2.409774 -2.164471 -1.938792   \n",
      "\n",
      "         14  \n",
      "0 -2.385243  \n",
      "1 -2.409774  \n",
      "2 -2.164471  \n",
      "3 -1.938792  \n",
      "4 -2.051631  \n",
      "Y:\tTamanio: (258,)\n",
      "          0\n",
      "0 -2.409774\n",
      "1 -2.164471\n",
      "2 -1.938792\n",
      "3 -2.051631\n",
      "4 -1.806328\n",
      "\n",
      "Set de prueba\n",
      "X:\tTamanio: (78, 15)\n",
      "         0         1         2         3         4         5         6   \\\n",
      "0  0.840398  1.039254  0.762160  0.706741  0.726300  0.801279  0.674141   \n",
      "1  1.039254  0.762160  0.706741  0.726300  0.801279  0.674141  0.876257   \n",
      "2  0.762160  0.706741  0.726300  0.801279  0.674141  0.876257  0.801279   \n",
      "3  0.706741  0.726300  0.801279  0.674141  0.876257  0.801279  0.925156   \n",
      "4  0.726300  0.801279  0.674141  0.876257  0.801279  0.925156  1.003395   \n",
      "\n",
      "         7         8         9         10        11        12        13  \\\n",
      "0  0.876257  0.801279  0.925156  1.003395  0.670881  0.951236  0.876257   \n",
      "1  0.801279  0.925156  1.003395  0.670881  0.951236  0.876257  0.736080   \n",
      "2  0.925156  1.003395  0.670881  0.951236  0.876257  0.736080  0.560043   \n",
      "3  1.003395  0.670881  0.951236  0.876257  0.736080  0.560043  1.049034   \n",
      "4  0.670881  0.951236  0.876257  0.736080  0.560043  1.049034  1.068594   \n",
      "\n",
      "         14  \n",
      "0  0.736080  \n",
      "1  0.560043  \n",
      "2  1.049034  \n",
      "3  1.068594  \n",
      "4  0.755640  \n",
      "Y:\tTamanio: (78,)\n",
      "          0\n",
      "0  0.560043\n",
      "1  1.049034\n",
      "2  1.068594\n",
      "3  0.755640\n",
      "4  0.879517\n",
      "\n"
     ]
    }
   ],
   "source": [
    "print(f'Set de entrenamiento\\nX:\\tTamanio: {X_train.shape}\\n{pd.DataFrame(X_train).head(5)}\\nY:\\tTamanio: {y_train.shape}\\n{pd.DataFrame(y_train).head(5)}\\n')\n",
    "print(f'Set de prueba\\nX:\\tTamanio: {X_test.shape}\\n{pd.DataFrame(X_test).head(5)}\\nY:\\tTamanio: {y_test.shape}\\n{pd.DataFrame(y_test).head(5)}\\n')"
   ]
  },
  {
   "cell_type": "code",
   "execution_count": 99,
   "metadata": {},
   "outputs": [
    {
     "name": "stdout",
     "output_type": "stream",
     "text": [
      "Fitting 5 folds for each of 12 candidates, totalling 60 fits\n",
      "[CV 1/5] END activation=logistic, hidden_layer_sizes=(10,);, score=-0.657 total time=   1.1s\n",
      "[CV 2/5] END activation=logistic, hidden_layer_sizes=(10,);, score=-0.422 total time=   0.5s\n",
      "[CV 3/5] END activation=logistic, hidden_layer_sizes=(10,);, score=-0.432 total time=   0.7s\n",
      "[CV 4/5] END activation=logistic, hidden_layer_sizes=(10,);, score=-0.510 total time=   0.9s\n",
      "[CV 5/5] END activation=logistic, hidden_layer_sizes=(10,);, score=-0.667 total time=   0.9s\n",
      "[CV 1/5] END activation=logistic, hidden_layer_sizes=(20,);, score=-1.046 total time=   0.2s\n",
      "[CV 2/5] END activation=logistic, hidden_layer_sizes=(20,);, score=-0.566 total time=   0.5s\n",
      "[CV 3/5] END activation=logistic, hidden_layer_sizes=(20,);, score=-0.513 total time=   0.7s\n",
      "[CV 4/5] END activation=logistic, hidden_layer_sizes=(20,);, score=-0.779 total time=   0.8s\n",
      "[CV 5/5] END activation=logistic, hidden_layer_sizes=(20,);, score=-0.642 total time=   1.2s\n",
      "[CV 1/5] END activation=logistic, hidden_layer_sizes=(40,);, score=-0.931 total time=   0.4s\n",
      "[CV 2/5] END activation=logistic, hidden_layer_sizes=(40,);, score=-0.425 total time=   0.6s\n",
      "[CV 3/5] END activation=logistic, hidden_layer_sizes=(40,);, score=-0.456 total time=   0.8s\n",
      "[CV 4/5] END activation=logistic, hidden_layer_sizes=(40,);, score=-0.451 total time=   1.0s\n",
      "[CV 5/5] END activation=logistic, hidden_layer_sizes=(40,);, score=-0.484 total time=   1.2s\n",
      "[CV 1/5] END activation=logistic, hidden_layer_sizes=(80,);, score=-0.938 total time=   0.6s\n",
      "[CV 2/5] END activation=logistic, hidden_layer_sizes=(80,);, score=-0.521 total time=   1.3s\n",
      "[CV 3/5] END activation=logistic, hidden_layer_sizes=(80,);, score=-0.439 total time=   2.9s\n",
      "[CV 4/5] END activation=logistic, hidden_layer_sizes=(80,);, score=-0.549 total time=   3.4s\n",
      "[CV 5/5] END activation=logistic, hidden_layer_sizes=(80,);, score=-0.517 total time=   4.5s\n",
      "[CV 1/5] END activation=tanh, hidden_layer_sizes=(10,);, score=-0.525 total time=   0.3s\n",
      "[CV 2/5] END activation=tanh, hidden_layer_sizes=(10,);, score=-0.650 total time=   0.4s\n",
      "[CV 3/5] END activation=tanh, hidden_layer_sizes=(10,);, score=-0.442 total time=   0.6s\n",
      "[CV 4/5] END activation=tanh, hidden_layer_sizes=(10,);, score=-0.653 total time=   0.9s\n"
     ]
    },
    {
     "name": "stderr",
     "output_type": "stream",
     "text": [
      "/home/leonardo/anaconda3/envs/DEV_ML_SKLEARN/lib/python3.8/site-packages/sklearn/neural_network/_multilayer_perceptron.py:549: ConvergenceWarning: lbfgs failed to converge (status=1):\n",
      "STOP: TOTAL NO. of ITERATIONS REACHED LIMIT.\n",
      "\n",
      "Increase the number of iterations (max_iter) or scale the data as shown in:\n",
      "    https://scikit-learn.org/stable/modules/preprocessing.html\n",
      "  self.n_iter_ = _check_optimize_result(\"lbfgs\", opt_res, self.max_iter)\n"
     ]
    },
    {
     "name": "stdout",
     "output_type": "stream",
     "text": [
      "[CV 5/5] END activation=tanh, hidden_layer_sizes=(10,);, score=-0.627 total time=   1.4s\n",
      "[CV 1/5] END activation=tanh, hidden_layer_sizes=(20,);, score=-0.792 total time=   0.2s\n",
      "[CV 2/5] END activation=tanh, hidden_layer_sizes=(20,);, score=-0.432 total time=   0.4s\n",
      "[CV 3/5] END activation=tanh, hidden_layer_sizes=(20,);, score=-0.366 total time=   0.5s\n",
      "[CV 4/5] END activation=tanh, hidden_layer_sizes=(20,);, score=-0.449 total time=   0.7s\n",
      "[CV 5/5] END activation=tanh, hidden_layer_sizes=(20,);, score=-0.650 total time=   0.8s\n",
      "[CV 1/5] END activation=tanh, hidden_layer_sizes=(40,);, score=-0.778 total time=   0.2s\n",
      "[CV 2/5] END activation=tanh, hidden_layer_sizes=(40,);, score=-0.421 total time=   0.5s\n",
      "[CV 3/5] END activation=tanh, hidden_layer_sizes=(40,);, score=-0.403 total time=   0.6s\n",
      "[CV 4/5] END activation=tanh, hidden_layer_sizes=(40,);, score=-0.465 total time=   0.8s\n",
      "[CV 5/5] END activation=tanh, hidden_layer_sizes=(40,);, score=-0.525 total time=   1.0s\n",
      "[CV 1/5] END activation=tanh, hidden_layer_sizes=(80,);, score=-0.950 total time=   0.3s\n",
      "[CV 2/5] END activation=tanh, hidden_layer_sizes=(80,);, score=-0.427 total time=   0.7s\n",
      "[CV 3/5] END activation=tanh, hidden_layer_sizes=(80,);, score=-0.370 total time=   2.0s\n",
      "[CV 4/5] END activation=tanh, hidden_layer_sizes=(80,);, score=-0.423 total time=   3.5s\n",
      "[CV 5/5] END activation=tanh, hidden_layer_sizes=(80,);, score=-0.503 total time=   3.3s\n",
      "[CV 1/5] END activation=relu, hidden_layer_sizes=(10,);, score=-1.090 total time=   0.2s\n",
      "[CV 2/5] END activation=relu, hidden_layer_sizes=(10,);, score=-0.547 total time=   0.7s\n",
      "[CV 3/5] END activation=relu, hidden_layer_sizes=(10,);, score=-0.509 total time=   1.1s\n",
      "[CV 4/5] END activation=relu, hidden_layer_sizes=(10,);, score=-0.368 total time=   0.4s\n",
      "[CV 5/5] END activation=relu, hidden_layer_sizes=(10,);, score=-0.473 total time=   0.8s\n",
      "[CV 1/5] END activation=relu, hidden_layer_sizes=(20,);, score=-0.650 total time=   0.1s\n",
      "[CV 2/5] END activation=relu, hidden_layer_sizes=(20,);, score=-0.327 total time=   0.4s\n",
      "[CV 3/5] END activation=relu, hidden_layer_sizes=(20,);, score=-0.373 total time=   0.3s\n",
      "[CV 4/5] END activation=relu, hidden_layer_sizes=(20,);, score=-0.456 total time=   0.5s\n",
      "[CV 5/5] END activation=relu, hidden_layer_sizes=(20,);, score=-0.646 total time=   1.0s\n",
      "[CV 1/5] END activation=relu, hidden_layer_sizes=(40,);, score=-0.491 total time=   0.2s\n",
      "[CV 2/5] END activation=relu, hidden_layer_sizes=(40,);, score=-0.397 total time=   0.3s\n",
      "[CV 3/5] END activation=relu, hidden_layer_sizes=(40,);, score=-0.334 total time=   0.5s\n",
      "[CV 4/5] END activation=relu, hidden_layer_sizes=(40,);, score=-0.355 total time=   0.4s\n",
      "[CV 5/5] END activation=relu, hidden_layer_sizes=(40,);, score=-0.513 total time=   0.7s\n",
      "[CV 1/5] END activation=relu, hidden_layer_sizes=(80,);, score=-0.681 total time=   0.3s\n",
      "[CV 2/5] END activation=relu, hidden_layer_sizes=(80,);, score=-0.338 total time=   0.4s\n",
      "[CV 3/5] END activation=relu, hidden_layer_sizes=(80,);, score=-0.300 total time=   1.2s\n",
      "[CV 4/5] END activation=relu, hidden_layer_sizes=(80,);, score=-0.341 total time=   1.3s\n",
      "[CV 5/5] END activation=relu, hidden_layer_sizes=(80,);, score=-0.395 total time=   2.1s\n"
     ]
    },
    {
     "data": {
      "text/plain": [
       "GridSearchCV(cv=TimeSeriesSplit(gap=0, max_train_size=None, n_splits=5, test_size=None),\n",
       "             estimator=MLPRegressor(max_iter=2000, n_iter_no_change=50,\n",
       "                                    random_state=1234, solver='lbfgs',\n",
       "                                    validation_fraction=0.2),\n",
       "             param_grid={'activation': ['logistic', 'tanh', 'relu'],\n",
       "                         'hidden_layer_sizes': [(10,), (20,), (40,), (80,)]},\n",
       "             scoring='neg_root_mean_squared_error', verbose=3)"
      ]
     },
     "execution_count": 99,
     "metadata": {},
     "output_type": "execute_result"
    }
   ],
   "source": [
    "# parámetros de modelo (MLPR) y GS\n",
    "\n",
    "tsp = TimeSeriesSplit(n_splits = 5)\n",
    "\n",
    "params_grid = {    \n",
    "      'hidden_layer_sizes' : [(10,), (20,), (40,), (80,)], \n",
    "      'activation' : ['logistic', 'tanh', 'relu']\n",
    " }\n",
    "\n",
    "grid_sh = GridSearchCV(estimator = MLPRegressor(solver = 'lbfgs', #Modelo  a explorar.          \n",
    "                                                random_state=1234,\n",
    "                                                max_iter= 2000,\n",
    "                                                n_iter_no_change=50, \n",
    "                                                validation_fraction=0.2), \n",
    "                        cv = tsp,\n",
    "                        param_grid = params_grid, \n",
    "                        verbose = 3,\n",
    "                        scoring='neg_root_mean_squared_error',\n",
    "                        )\n",
    "\n",
    "grid_sh.fit(X_train, y_train)"
   ]
  },
  {
   "cell_type": "code",
   "execution_count": 100,
   "metadata": {},
   "outputs": [
    {
     "data": {
      "text/html": [
       "<div>\n",
       "<style scoped>\n",
       "    .dataframe tbody tr th:only-of-type {\n",
       "        vertical-align: middle;\n",
       "    }\n",
       "\n",
       "    .dataframe tbody tr th {\n",
       "        vertical-align: top;\n",
       "    }\n",
       "\n",
       "    .dataframe thead th {\n",
       "        text-align: right;\n",
       "    }\n",
       "</style>\n",
       "<table border=\"1\" class=\"dataframe\">\n",
       "  <thead>\n",
       "    <tr style=\"text-align: right;\">\n",
       "      <th></th>\n",
       "      <th>mean_fit_time</th>\n",
       "      <th>std_fit_time</th>\n",
       "      <th>mean_score_time</th>\n",
       "      <th>std_score_time</th>\n",
       "      <th>param_activation</th>\n",
       "      <th>param_hidden_layer_sizes</th>\n",
       "      <th>params</th>\n",
       "      <th>split0_test_score</th>\n",
       "      <th>split1_test_score</th>\n",
       "      <th>split2_test_score</th>\n",
       "      <th>split3_test_score</th>\n",
       "      <th>split4_test_score</th>\n",
       "      <th>mean_test_score</th>\n",
       "      <th>std_test_score</th>\n",
       "      <th>rank_test_score</th>\n",
       "    </tr>\n",
       "  </thead>\n",
       "  <tbody>\n",
       "    <tr>\n",
       "      <th>0</th>\n",
       "      <td>0.818489</td>\n",
       "      <td>0.196084</td>\n",
       "      <td>0.000860</td>\n",
       "      <td>0.000257</td>\n",
       "      <td>logistic</td>\n",
       "      <td>(10,)</td>\n",
       "      <td>{'activation': 'logistic', 'hidden_layer_sizes...</td>\n",
       "      <td>-0.657366</td>\n",
       "      <td>-0.421523</td>\n",
       "      <td>-0.431533</td>\n",
       "      <td>-0.510225</td>\n",
       "      <td>-0.666865</td>\n",
       "      <td>-0.537502</td>\n",
       "      <td>0.106326</td>\n",
       "      <td>6</td>\n",
       "    </tr>\n",
       "    <tr>\n",
       "      <th>1</th>\n",
       "      <td>0.668413</td>\n",
       "      <td>0.313523</td>\n",
       "      <td>0.000675</td>\n",
       "      <td>0.000104</td>\n",
       "      <td>logistic</td>\n",
       "      <td>(20,)</td>\n",
       "      <td>{'activation': 'logistic', 'hidden_layer_sizes...</td>\n",
       "      <td>-1.045576</td>\n",
       "      <td>-0.565705</td>\n",
       "      <td>-0.512885</td>\n",
       "      <td>-0.779190</td>\n",
       "      <td>-0.642116</td>\n",
       "      <td>-0.709094</td>\n",
       "      <td>0.190619</td>\n",
       "      <td>12</td>\n",
       "    </tr>\n",
       "    <tr>\n",
       "      <th>2</th>\n",
       "      <td>0.820244</td>\n",
       "      <td>0.278043</td>\n",
       "      <td>0.000706</td>\n",
       "      <td>0.000170</td>\n",
       "      <td>logistic</td>\n",
       "      <td>(40,)</td>\n",
       "      <td>{'activation': 'logistic', 'hidden_layer_sizes...</td>\n",
       "      <td>-0.930756</td>\n",
       "      <td>-0.424970</td>\n",
       "      <td>-0.455886</td>\n",
       "      <td>-0.451125</td>\n",
       "      <td>-0.484446</td>\n",
       "      <td>-0.549437</td>\n",
       "      <td>0.191592</td>\n",
       "      <td>8</td>\n",
       "    </tr>\n",
       "    <tr>\n",
       "      <th>3</th>\n",
       "      <td>2.540263</td>\n",
       "      <td>1.441200</td>\n",
       "      <td>0.000946</td>\n",
       "      <td>0.000277</td>\n",
       "      <td>logistic</td>\n",
       "      <td>(80,)</td>\n",
       "      <td>{'activation': 'logistic', 'hidden_layer_sizes...</td>\n",
       "      <td>-0.937805</td>\n",
       "      <td>-0.520808</td>\n",
       "      <td>-0.439345</td>\n",
       "      <td>-0.549406</td>\n",
       "      <td>-0.516927</td>\n",
       "      <td>-0.592858</td>\n",
       "      <td>0.176295</td>\n",
       "      <td>10</td>\n",
       "    </tr>\n",
       "    <tr>\n",
       "      <th>4</th>\n",
       "      <td>0.727913</td>\n",
       "      <td>0.424975</td>\n",
       "      <td>0.000681</td>\n",
       "      <td>0.000154</td>\n",
       "      <td>tanh</td>\n",
       "      <td>(10,)</td>\n",
       "      <td>{'activation': 'tanh', 'hidden_layer_sizes': (...</td>\n",
       "      <td>-0.524998</td>\n",
       "      <td>-0.650419</td>\n",
       "      <td>-0.442307</td>\n",
       "      <td>-0.653482</td>\n",
       "      <td>-0.626864</td>\n",
       "      <td>-0.579614</td>\n",
       "      <td>0.083113</td>\n",
       "      <td>9</td>\n",
       "    </tr>\n",
       "    <tr>\n",
       "      <th>5</th>\n",
       "      <td>0.493109</td>\n",
       "      <td>0.201116</td>\n",
       "      <td>0.000621</td>\n",
       "      <td>0.000014</td>\n",
       "      <td>tanh</td>\n",
       "      <td>(20,)</td>\n",
       "      <td>{'activation': 'tanh', 'hidden_layer_sizes': (...</td>\n",
       "      <td>-0.792466</td>\n",
       "      <td>-0.431699</td>\n",
       "      <td>-0.365863</td>\n",
       "      <td>-0.448866</td>\n",
       "      <td>-0.650310</td>\n",
       "      <td>-0.537841</td>\n",
       "      <td>0.158898</td>\n",
       "      <td>7</td>\n",
       "    </tr>\n",
       "    <tr>\n",
       "      <th>6</th>\n",
       "      <td>0.620478</td>\n",
       "      <td>0.277472</td>\n",
       "      <td>0.000647</td>\n",
       "      <td>0.000005</td>\n",
       "      <td>tanh</td>\n",
       "      <td>(40,)</td>\n",
       "      <td>{'activation': 'tanh', 'hidden_layer_sizes': (...</td>\n",
       "      <td>-0.778306</td>\n",
       "      <td>-0.420693</td>\n",
       "      <td>-0.403051</td>\n",
       "      <td>-0.464882</td>\n",
       "      <td>-0.525175</td>\n",
       "      <td>-0.518421</td>\n",
       "      <td>0.136611</td>\n",
       "      <td>4</td>\n",
       "    </tr>\n",
       "    <tr>\n",
       "      <th>7</th>\n",
       "      <td>1.963138</td>\n",
       "      <td>1.284344</td>\n",
       "      <td>0.001150</td>\n",
       "      <td>0.000203</td>\n",
       "      <td>tanh</td>\n",
       "      <td>(80,)</td>\n",
       "      <td>{'activation': 'tanh', 'hidden_layer_sizes': (...</td>\n",
       "      <td>-0.950086</td>\n",
       "      <td>-0.427015</td>\n",
       "      <td>-0.370416</td>\n",
       "      <td>-0.422959</td>\n",
       "      <td>-0.503030</td>\n",
       "      <td>-0.534701</td>\n",
       "      <td>0.211953</td>\n",
       "      <td>5</td>\n",
       "    </tr>\n",
       "    <tr>\n",
       "      <th>8</th>\n",
       "      <td>0.632746</td>\n",
       "      <td>0.304552</td>\n",
       "      <td>0.000762</td>\n",
       "      <td>0.000208</td>\n",
       "      <td>relu</td>\n",
       "      <td>(10,)</td>\n",
       "      <td>{'activation': 'relu', 'hidden_layer_sizes': (...</td>\n",
       "      <td>-1.089734</td>\n",
       "      <td>-0.546628</td>\n",
       "      <td>-0.509053</td>\n",
       "      <td>-0.368317</td>\n",
       "      <td>-0.472585</td>\n",
       "      <td>-0.597264</td>\n",
       "      <td>0.253311</td>\n",
       "      <td>11</td>\n",
       "    </tr>\n",
       "    <tr>\n",
       "      <th>9</th>\n",
       "      <td>0.460833</td>\n",
       "      <td>0.301415</td>\n",
       "      <td>0.000664</td>\n",
       "      <td>0.000094</td>\n",
       "      <td>relu</td>\n",
       "      <td>(20,)</td>\n",
       "      <td>{'activation': 'relu', 'hidden_layer_sizes': (...</td>\n",
       "      <td>-0.650318</td>\n",
       "      <td>-0.326814</td>\n",
       "      <td>-0.373043</td>\n",
       "      <td>-0.455709</td>\n",
       "      <td>-0.645797</td>\n",
       "      <td>-0.490336</td>\n",
       "      <td>0.135247</td>\n",
       "      <td>3</td>\n",
       "    </tr>\n",
       "    <tr>\n",
       "      <th>10</th>\n",
       "      <td>0.425858</td>\n",
       "      <td>0.147417</td>\n",
       "      <td>0.000756</td>\n",
       "      <td>0.000174</td>\n",
       "      <td>relu</td>\n",
       "      <td>(40,)</td>\n",
       "      <td>{'activation': 'relu', 'hidden_layer_sizes': (...</td>\n",
       "      <td>-0.490584</td>\n",
       "      <td>-0.396897</td>\n",
       "      <td>-0.334476</td>\n",
       "      <td>-0.355417</td>\n",
       "      <td>-0.512690</td>\n",
       "      <td>-0.418013</td>\n",
       "      <td>0.071516</td>\n",
       "      <td>2</td>\n",
       "    </tr>\n",
       "    <tr>\n",
       "      <th>11</th>\n",
       "      <td>1.080410</td>\n",
       "      <td>0.652330</td>\n",
       "      <td>0.000862</td>\n",
       "      <td>0.000162</td>\n",
       "      <td>relu</td>\n",
       "      <td>(80,)</td>\n",
       "      <td>{'activation': 'relu', 'hidden_layer_sizes': (...</td>\n",
       "      <td>-0.680631</td>\n",
       "      <td>-0.338097</td>\n",
       "      <td>-0.300226</td>\n",
       "      <td>-0.340963</td>\n",
       "      <td>-0.394975</td>\n",
       "      <td>-0.410978</td>\n",
       "      <td>0.138165</td>\n",
       "      <td>1</td>\n",
       "    </tr>\n",
       "  </tbody>\n",
       "</table>\n",
       "</div>"
      ],
      "text/plain": [
       "    mean_fit_time  std_fit_time  mean_score_time  std_score_time  \\\n",
       "0        0.818489      0.196084         0.000860        0.000257   \n",
       "1        0.668413      0.313523         0.000675        0.000104   \n",
       "2        0.820244      0.278043         0.000706        0.000170   \n",
       "3        2.540263      1.441200         0.000946        0.000277   \n",
       "4        0.727913      0.424975         0.000681        0.000154   \n",
       "5        0.493109      0.201116         0.000621        0.000014   \n",
       "6        0.620478      0.277472         0.000647        0.000005   \n",
       "7        1.963138      1.284344         0.001150        0.000203   \n",
       "8        0.632746      0.304552         0.000762        0.000208   \n",
       "9        0.460833      0.301415         0.000664        0.000094   \n",
       "10       0.425858      0.147417         0.000756        0.000174   \n",
       "11       1.080410      0.652330         0.000862        0.000162   \n",
       "\n",
       "   param_activation param_hidden_layer_sizes  \\\n",
       "0          logistic                    (10,)   \n",
       "1          logistic                    (20,)   \n",
       "2          logistic                    (40,)   \n",
       "3          logistic                    (80,)   \n",
       "4              tanh                    (10,)   \n",
       "5              tanh                    (20,)   \n",
       "6              tanh                    (40,)   \n",
       "7              tanh                    (80,)   \n",
       "8              relu                    (10,)   \n",
       "9              relu                    (20,)   \n",
       "10             relu                    (40,)   \n",
       "11             relu                    (80,)   \n",
       "\n",
       "                                               params  split0_test_score  \\\n",
       "0   {'activation': 'logistic', 'hidden_layer_sizes...          -0.657366   \n",
       "1   {'activation': 'logistic', 'hidden_layer_sizes...          -1.045576   \n",
       "2   {'activation': 'logistic', 'hidden_layer_sizes...          -0.930756   \n",
       "3   {'activation': 'logistic', 'hidden_layer_sizes...          -0.937805   \n",
       "4   {'activation': 'tanh', 'hidden_layer_sizes': (...          -0.524998   \n",
       "5   {'activation': 'tanh', 'hidden_layer_sizes': (...          -0.792466   \n",
       "6   {'activation': 'tanh', 'hidden_layer_sizes': (...          -0.778306   \n",
       "7   {'activation': 'tanh', 'hidden_layer_sizes': (...          -0.950086   \n",
       "8   {'activation': 'relu', 'hidden_layer_sizes': (...          -1.089734   \n",
       "9   {'activation': 'relu', 'hidden_layer_sizes': (...          -0.650318   \n",
       "10  {'activation': 'relu', 'hidden_layer_sizes': (...          -0.490584   \n",
       "11  {'activation': 'relu', 'hidden_layer_sizes': (...          -0.680631   \n",
       "\n",
       "    split1_test_score  split2_test_score  split3_test_score  \\\n",
       "0           -0.421523          -0.431533          -0.510225   \n",
       "1           -0.565705          -0.512885          -0.779190   \n",
       "2           -0.424970          -0.455886          -0.451125   \n",
       "3           -0.520808          -0.439345          -0.549406   \n",
       "4           -0.650419          -0.442307          -0.653482   \n",
       "5           -0.431699          -0.365863          -0.448866   \n",
       "6           -0.420693          -0.403051          -0.464882   \n",
       "7           -0.427015          -0.370416          -0.422959   \n",
       "8           -0.546628          -0.509053          -0.368317   \n",
       "9           -0.326814          -0.373043          -0.455709   \n",
       "10          -0.396897          -0.334476          -0.355417   \n",
       "11          -0.338097          -0.300226          -0.340963   \n",
       "\n",
       "    split4_test_score  mean_test_score  std_test_score  rank_test_score  \n",
       "0           -0.666865        -0.537502        0.106326                6  \n",
       "1           -0.642116        -0.709094        0.190619               12  \n",
       "2           -0.484446        -0.549437        0.191592                8  \n",
       "3           -0.516927        -0.592858        0.176295               10  \n",
       "4           -0.626864        -0.579614        0.083113                9  \n",
       "5           -0.650310        -0.537841        0.158898                7  \n",
       "6           -0.525175        -0.518421        0.136611                4  \n",
       "7           -0.503030        -0.534701        0.211953                5  \n",
       "8           -0.472585        -0.597264        0.253311               11  \n",
       "9           -0.645797        -0.490336        0.135247                3  \n",
       "10          -0.512690        -0.418013        0.071516                2  \n",
       "11          -0.394975        -0.410978        0.138165                1  "
      ]
     },
     "execution_count": 100,
     "metadata": {},
     "output_type": "execute_result"
    }
   ],
   "source": [
    "pd.DataFrame(grid_sh.cv_results_)"
   ]
  },
  {
   "cell_type": "markdown",
   "metadata": {},
   "source": [
    "### Predicciones"
   ]
  },
  {
   "cell_type": "code",
   "execution_count": 101,
   "metadata": {},
   "outputs": [
    {
     "data": {
      "text/plain": [
       "1.6856504486903718"
      ]
     },
     "execution_count": 101,
     "metadata": {},
     "output_type": "execute_result"
    }
   ],
   "source": [
    "def inverse(data, scaler_set):\n",
    "    yt = data.reshape((data.shape[0],1))\n",
    "    yt_ex = scaler_set.inverse_transform(yt)\n",
    "    \n",
    "    return yt_ex.reshape((data.shape[0],))\n",
    "\n",
    "\n",
    "y_predict = grid_sh.predict(X_test)\n",
    "\n",
    "val = mean_squared_error(y_test, y_predict)\n",
    "val\n"
   ]
  },
  {
   "cell_type": "code",
   "execution_count": 102,
   "metadata": {},
   "outputs": [
    {
     "name": "stdout",
     "output_type": "stream",
     "text": [
      "(78,)\n",
      "(78,)\n"
     ]
    },
    {
     "data": {
      "text/plain": [
       "<AxesSubplot:>"
      ]
     },
     "execution_count": 102,
     "metadata": {},
     "output_type": "execute_result"
    },
    {
     "data": {
      "image/png": "[encoded data removed]",
      "text/plain": [
       "<Figure size 720x720 with 1 Axes>"
      ]
     },
     "metadata": {
      "needs_background": "light"
     },
     "output_type": "display_data"
    }
   ],
   "source": [
    "#grafica\n",
    "y_test_de = inverse(y_test, scaler_set)\n",
    "y_pred_de = inverse(y_predict, scaler_set)\n",
    "\n",
    "print(y_test_de.shape)\n",
    "print(y_pred_de.shape)\n",
    "\n",
    "x = [i for i in range(1,79)]\n",
    "\n",
    "fig, ax = plt.subplots(figsize=(10,10))\n",
    "sns.lineplot(x=x, y=y_test_de,ax=ax)\n",
    "sns.lineplot(x=x, y=y_pred_de,ax=ax)"
   ]
  },
  {
   "cell_type": "code",
   "execution_count": 103,
   "metadata": {},
   "outputs": [
    {
     "data": {
      "text/plain": [
       "['scaler.joblib']"
      ]
     },
     "execution_count": 103,
     "metadata": {},
     "output_type": "execute_result"
    }
   ],
   "source": [
    "#serializar regresor\n",
    "jbl.dump(grid_sh, 'trainedModel.joblib')\n",
    "#serializar scaler\n",
    "jbl.dump(scaler_set, 'scaler.joblib')"
   ]
  },
  {
   "cell_type": "code",
   "execution_count": 104,
   "metadata": {},
   "outputs": [
    {
     "name": "stdout",
     "output_type": "stream",
     "text": [
      "<class 'sklearn.model_selection._search.GridSearchCV'>\n",
      "<class 'sklearn.preprocessing._data.StandardScaler'>\n"
     ]
    }
   ],
   "source": [
    "#revision de tipos para realizar tipado en API\n",
    "print(type(grid_sh))\n",
    "print(type(scaler_set))"
   ]
  },
  {
   "cell_type": "code",
   "execution_count": 105,
   "metadata": {},
   "outputs": [],
   "source": [
    "#Clase para condensar todo lo necesario para usar el regresor en API\n",
    "class Predictor_utils:\n",
    "    '''\n",
    "    Clase usada para condensar atributos necesarios para usar un regresor previamente entrenado\n",
    "    regresor: Regresor entrenado\n",
    "    scaler: Scaler usado en el procesamiento de datos\n",
    "    k: tamaño de ventana usado para generar dataset temporal con el que se entrenó el regresor\n",
    "    window_data: Contiene k ultimos valores de la serie\n",
    "    '''\n",
    "    def __init__(self, regresor: GridSearchCV, scaler: StandardScaler, k: int, data: pd.Series):\n",
    "        self.regresor = regresor\n",
    "        self.scaler = scaler\n",
    "        self.k = k\n",
    "        self.window_data = data.iloc[-k:].values.reshape(-1,1)\n"
   ]
  },
  {
   "cell_type": "code",
   "execution_count": 106,
   "metadata": {},
   "outputs": [
    {
     "data": {
      "text/plain": [
       "['regresor_utils.joblib']"
      ]
     },
     "execution_count": 106,
     "metadata": {},
     "output_type": "execute_result"
    }
   ],
   "source": [
    "#Instancia de Predictor_utils a serializar u serializacion\n",
    "\n",
    "predictor_utils = Predictor_utils(grid_sh, scaler_set, k, serie_inicial)\n",
    "jbl.dump(predictor_utils, 'regresor_utils.joblib')"
   ]
  },
  {
   "cell_type": "code",
   "execution_count": 110,
   "metadata": {},
   "outputs": [
    {
     "data": {
      "text/plain": [
       "['regresor_utils_.joblib']"
      ]
     },
     "execution_count": 110,
     "metadata": {},
     "output_type": "execute_result"
    }
   ],
   "source": [
    "predictor_utils = {'regresor': grid_sh, 'scaler': scaler_set, 'k': k, 'window_data': serie_inicial.iloc[-k:].values.reshape(-1,1)} \n",
    "\n",
    "jbl.dump(predictor_utils, 'regresor_utils_.joblib')"
   ]
  },
  {
   "cell_type": "code",
   "execution_count": 108,
   "metadata": {},
   "outputs": [
    {
     "data": {
      "text/plain": [
       "array([[76.],\n",
       "       [42.]])"
      ]
     },
     "execution_count": 108,
     "metadata": {},
     "output_type": "execute_result"
    }
   ],
   "source": [
    "predictor_utils.window_data[-2:]"
   ]
  },
  {
   "cell_type": "code",
   "execution_count": 109,
   "metadata": {},
   "outputs": [
    {
     "data": {
      "text/plain": [
       "saletime\n",
       "2008-12-30    76.0\n",
       "2008-12-31    42.0\n",
       "Name: boletos_vendidos, dtype: float64"
      ]
     },
     "execution_count": 109,
     "metadata": {},
     "output_type": "execute_result"
    }
   ],
   "source": [
    "serie_inicial.loc['2008-12-30':]"
   ]
  }
 ],
 "metadata": {
  "interpreter": {
   "hash": "589eadb9b409d3c619f56cdd0c4dc8013bad373e4d88c26d33b8b54aa0ec2e68"
  },
  "kernelspec": {
   "display_name": "Python 3.8.12 ('DEV_ML_SKLEARN')",
   "language": "python",
   "name": "python3"
  },
  "language_info": {
   "codemirror_mode": {
    "name": "ipython",
    "version": 3
   },
   "file_extension": ".py",
   "mimetype": "text/x-python",
   "name": "python",
   "nbconvert_exporter": "python",
   "pygments_lexer": "ipython3",
   "version": "3.8.12"
  },
  "orig_nbformat": 4
 },
 "nbformat": 4,
 "nbformat_minor": 2
}
